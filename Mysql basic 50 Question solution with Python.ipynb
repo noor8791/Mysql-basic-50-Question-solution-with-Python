{
 "cells": [
  {
   "cell_type": "code",
   "execution_count": 1,
   "id": "7518d846-cec5-42ca-b006-ab8535f12938",
   "metadata": {},
   "outputs": [
    {
     "name": "stdout",
     "output_type": "stream",
     "text": [
      "Success fully import library\n"
     ]
    }
   ],
   "source": [
    "# import library\n",
    "import mysql.connector\n",
    "# import pandas as pd\n",
    "print(\"Success fully import library\")"
   ]
  },
  {
   "cell_type": "code",
   "execution_count": 2,
   "id": "f43a4c82-fabf-4253-9e0b-6370b8cfd42a",
   "metadata": {},
   "outputs": [
    {
     "name": "stdout",
     "output_type": "stream",
     "text": [
      "database successfully connect\n"
     ]
    }
   ],
   "source": [
    "# MySQL connection build\n",
    "conn = mysql.connector.connect(\n",
    "    host = \"localhost\",\n",
    "    user = \"root\",\n",
    "    password = \"1234\",\n",
    "    # database = \"new_database\"\n",
    "    database = \"school\"\n",
    ")\n",
    "cursor = conn.cursor()\n",
    "print(\"database successfully connect\")"
   ]
  },
  {
   "cell_type": "markdown",
   "id": "ed0a625a-b433-49a1-a8e6-af919a95a870",
   "metadata": {},
   "source": [
    "# Q.1 Create a database named schoo"
   ]
  },
  {
   "cell_type": "code",
   "execution_count": 9,
   "id": "d4a60bac-6a93-4970-9c7e-64d176eae63e",
   "metadata": {},
   "outputs": [
    {
     "name": "stdout",
     "output_type": "stream",
     "text": [
      "Create successfully database\n"
     ]
    }
   ],
   "source": [
    "query = \"create database new_database2\"\n",
    "cursor.execute(query)\n",
    "print(\"Create successfully database\")"
   ]
  },
  {
   "cell_type": "markdown",
   "id": "0f807e05-8d93-4a73-9e2c-9640b40c4c2c",
   "metadata": {},
   "source": [
    "# Q.2 Create a table students with columns: id, name, age, class, marks."
   ]
  },
  {
   "cell_type": "code",
   "execution_count": 19,
   "id": "cc4e44cd-fca4-4220-aa81-91d902fcf233",
   "metadata": {},
   "outputs": [
    {
     "name": "stdout",
     "output_type": "stream",
     "text": [
      "Create Successfully table\n"
     ]
    }
   ],
   "source": [
    "query = \"\"\"\n",
    "        create table new_table (\n",
    "        id int primary key auto_increment,\n",
    "        name varchar(150)  not null,\n",
    "        age int not null,\n",
    "        class varchar(100) not null,\n",
    "        marks int not null\n",
    "     )\n",
    "\"\"\"\n",
    "cursor.execute(query)\n",
    "print(\"Create Successfully table\")"
   ]
  },
  {
   "cell_type": "markdown",
   "id": "77000d5e-f751-4b0b-bea9-841dc478e64a",
   "metadata": {},
   "source": [
    "# Q.3 Insert 5 records into students table."
   ]
  },
  {
   "cell_type": "code",
   "execution_count": 32,
   "id": "01c1f051-db03-46af-8cda-aec93c0139ef",
   "metadata": {},
   "outputs": [
    {
     "name": "stdout",
     "output_type": "stream",
     "text": [
      "Success fully insert data in Mysql Table\n"
     ]
    }
   ],
   "source": [
    "query = \"\"\"\n",
    "      insert into new_table(name,age,class,marks) value(\"rohan\",22,\"BCA\",95),\n",
    "                                                         (\"mohit\",21,\"MCA\",75),\n",
    "                                                         (\"radhika\",24,\"BSC\",90),\n",
    "                                                         (\"monika\",21,\"BCA\",85),\n",
    "                                                         (\"rohan\",25,\"BCA\",55),\n",
    "                                                         (\"kuldeep\",26,\"MCA\",60)\n",
    "\"\"\"\n",
    "cursor.execute(query)\n",
    "conn.commit()\n",
    "print(\"Success fully insert data in Mysql Table\")"
   ]
  },
  {
   "cell_type": "markdown",
   "id": "23671382-555f-483e-a37e-09f065b6bb30",
   "metadata": {},
   "source": [
    "# Q.4 Show all records from students table"
   ]
  },
  {
   "cell_type": "code",
   "execution_count": 17,
   "id": "ff5b8884-1175-4dfd-b318-1a3469577063",
   "metadata": {},
   "outputs": [
    {
     "name": "stdout",
     "output_type": "stream",
     "text": [
      "(12, 'rohan', 22, 'BCA', 95)\n",
      "(13, 'mohit', 21, 'MCA', 75)\n",
      "(14, 'radhika', 24, 'BSC', 90)\n",
      "(15, 'monika', 21, 'BCA', 85)\n",
      "(16, 'rohan', 25, 'BCA', 55)\n",
      "(17, 'kuldeep', 26, 'MCA', 60)\n",
      "(18, 'ram singh', 23, 'BSC', 70)\n",
      "(19, 'rahul kumar', 22, 'BSC', 65)\n",
      "(20, 'rohan singh', 27, 'MCA', 80)\n",
      "(21, 'Asim kumar', 24, 'BCA', 91)\n",
      "(22, 'lave kumar', 29, 'BSC', 81)\n",
      "(23, 'rohan', 22, 'BCA', 95)\n",
      "(24, 'mohit', 21, 'MCA', 75)\n",
      "(25, 'radhika', 24, 'BSC', 90)\n",
      "(26, 'monika', 21, 'BCA', 85)\n",
      "(27, 'rohan', 25, 'BCA', 55)\n",
      "(28, 'kuldeep', 26, 'MCA', 60)\n",
      "(29, 'rohan', 22, 'BCA', 95)\n",
      "(30, 'mohit', 21, 'MCA', 75)\n",
      "(31, 'radhika', 24, 'BSC', 90)\n",
      "(32, 'monika', 21, 'BCA', 85)\n",
      "(33, 'rohan', 25, 'BCA', 55)\n",
      "(34, 'kuldeep', 26, 'MCA', 60)\n",
      "all data print\n"
     ]
    }
   ],
   "source": [
    "query = \"select * from new_database.new_table\"\n",
    "cursor.execute(query)\n",
    "data  = cursor.fetchall()\n",
    "\n",
    "for i in data:\n",
    "    print(i)\n",
    "print(\"all data print\")"
   ]
  },
  {
   "cell_type": "code",
   "execution_count": 20,
   "id": "098db0f2-255a-457a-8a0c-1a5098555957",
   "metadata": {},
   "outputs": [
    {
     "name": "stdout",
     "output_type": "stream",
     "text": [
      "(1, 'shivem', 1, 98)\n",
      "(2, 'ritem', 1, 95)\n",
      "(3, 'Atif', 2, 100)\n",
      "(4, 'Nazem', 3, 81)\n",
      "(5, 'noor', 1, 95)\n",
      "(6, 'Gorab', 2, 68)\n",
      "(7, 'Prikhar', 2, 50)\n",
      "(8, 'bhupas', 3, 96)\n",
      "(9, 'Asim', 1, 78)\n",
      "(10, 'rajkumar', 3, 98)\n"
     ]
    }
   ],
   "source": [
    "query = \"select * from school.students\"\n",
    "cursor.execute(query)\n",
    "\n",
    "data = cursor.fetchall()\n",
    "for i in data:\n",
    "    print(i)"
   ]
  },
  {
   "cell_type": "markdown",
   "id": "d9d6d124-2615-4b3b-bc7c-d424923ba818",
   "metadata": {},
   "source": [
    "# Q.5 Display only name and marks of students."
   ]
  },
  {
   "cell_type": "code",
   "execution_count": 22,
   "id": "9ea92727-1376-4d92-986d-30cd0a7de9d1",
   "metadata": {},
   "outputs": [
    {
     "name": "stdout",
     "output_type": "stream",
     "text": [
      "('shivem', 98)\n",
      "('ritem', 95)\n",
      "('Atif', 100)\n",
      "('Nazem', 81)\n",
      "('noor', 95)\n",
      "('Gorab', 68)\n",
      "('Prikhar', 50)\n",
      "('bhupas', 96)\n",
      "('Asim', 78)\n",
      "('rajkumar', 98)\n"
     ]
    }
   ],
   "source": [
    "query = \"select student_name, marks from school.students\"\n",
    "cursor.execute(query)\n",
    "\n",
    "data = cursor.fetchall()\n",
    "for i in data:\n",
    "    print(i)"
   ]
  },
  {
   "cell_type": "markdown",
   "id": "a99c435b-460a-4df5-8a79-e597b81f7807",
   "metadata": {},
   "source": [
    "# Q.6 Show students whose age is greater than 15."
   ]
  },
  {
   "cell_type": "code",
   "execution_count": 39,
   "id": "93a1555a-6513-4e65-be33-9c7ca9b7d736",
   "metadata": {},
   "outputs": [
    {
     "name": "stdout",
     "output_type": "stream",
     "text": [
      "(22,)\n",
      "(21,)\n",
      "(24,)\n",
      "(21,)\n",
      "(25,)\n",
      "(26,)\n"
     ]
    }
   ],
   "source": [
    "query = \"select age from school.new_table where age > 15\"\n",
    "cursor.execute(query)\n",
    "\n",
    "data = cursor.fetchall()\n",
    "for i in data:\n",
    "    print(i)"
   ]
  },
  {
   "cell_type": "markdown",
   "id": "b558fd59-b255-49f1-b2f5-d7df5ea77727",
   "metadata": {},
   "source": [
    "# Q.7 Show students who have marks more than 80."
   ]
  },
  {
   "cell_type": "code",
   "execution_count": 40,
   "id": "66fda146-136d-40e3-8f7e-4a1c5ba5705c",
   "metadata": {},
   "outputs": [
    {
     "name": "stdout",
     "output_type": "stream",
     "text": [
      "(1, 'shivem', 1, 98)\n",
      "(2, 'ritem', 1, 95)\n",
      "(3, 'Atif', 2, 100)\n",
      "(4, 'Nazem', 3, 81)\n",
      "(5, 'noor', 1, 95)\n",
      "(8, 'bhupas', 3, 96)\n",
      "(10, 'rajkumar', 3, 98)\n"
     ]
    }
   ],
   "source": [
    "query = \"select * from school.students where marks > 80\"\n",
    "cursor.execute(query)\n",
    "\n",
    "data = cursor.fetchall()\n",
    "for i in data:\n",
    "    print(i)"
   ]
  },
  {
   "cell_type": "markdown",
   "id": "2c874f9c-0981-424e-bd62-5a6b184b6121",
   "metadata": {},
   "source": [
    "# Q.8 Show all students in ascending order of marks."
   ]
  },
  {
   "cell_type": "code",
   "execution_count": 42,
   "id": "d626c408-7a32-4900-ad27-ec09cef065f3",
   "metadata": {},
   "outputs": [
    {
     "name": "stdout",
     "output_type": "stream",
     "text": [
      "(7, 'Prikhar', 2, 50)\n",
      "(6, 'Gorab', 2, 68)\n",
      "(9, 'Asim', 1, 78)\n",
      "(4, 'Nazem', 3, 81)\n",
      "(2, 'ritem', 1, 95)\n",
      "(5, 'noor', 1, 95)\n",
      "(8, 'bhupas', 3, 96)\n",
      "(1, 'shivem', 1, 98)\n",
      "(10, 'rajkumar', 3, 98)\n",
      "(3, 'Atif', 2, 100)\n"
     ]
    }
   ],
   "source": [
    "query = \"select * from school.students order by marks asc\"\n",
    "cursor.execute(query)\n",
    "\n",
    "data = cursor.fetchall()\n",
    "for i in data:\n",
    "    print(i)"
   ]
  },
  {
   "cell_type": "markdown",
   "id": "1823221c-ffaf-4c0d-a497-b59552f8e5ab",
   "metadata": {},
   "source": [
    "# Q.9 Show all students in descending order of age."
   ]
  },
  {
   "cell_type": "code",
   "execution_count": 45,
   "id": "6b713317-aa93-43eb-b82b-1daf441037d9",
   "metadata": {},
   "outputs": [
    {
     "name": "stdout",
     "output_type": "stream",
     "text": [
      "(3, 'Atif', 2, 100)\n",
      "(1, 'shivem', 1, 98)\n",
      "(10, 'rajkumar', 3, 98)\n",
      "(8, 'bhupas', 3, 96)\n",
      "(2, 'ritem', 1, 95)\n",
      "(5, 'noor', 1, 95)\n",
      "(4, 'Nazem', 3, 81)\n",
      "(9, 'Asim', 1, 78)\n",
      "(6, 'Gorab', 2, 68)\n",
      "(7, 'Prikhar', 2, 50)\n"
     ]
    }
   ],
   "source": [
    "query = \"select * from school.students order by marks desc\"\n",
    "cursor.execute(query)\n",
    "\n",
    "data = cursor.fetchall()\n",
    "for i in data:\n",
    "    print(i)"
   ]
  },
  {
   "cell_type": "markdown",
   "id": "faea90ca-1e4d-4e23-b811-99e6100b264f",
   "metadata": {},
   "source": [
    "# Q.10 Count total number of students in the table."
   ]
  },
  {
   "cell_type": "code",
   "execution_count": 47,
   "id": "639a398a-7544-4714-a3e6-29fb6d2cfac0",
   "metadata": {},
   "outputs": [
    {
     "name": "stdout",
     "output_type": "stream",
     "text": [
      "Total students in class  (10,)\n"
     ]
    }
   ],
   "source": [
    "query  = \"select count(student_id) as total_student from school.students\"\n",
    "cursor.execute(query)\n",
    "\n",
    "data = cursor.fetchall()\n",
    "for i in data:\n",
    "    print(\"Total students in class \",i)"
   ]
  },
  {
   "cell_type": "markdown",
   "id": "4f0564f6-871f-45b1-9fdc-5527ff678aea",
   "metadata": {},
   "source": [
    "# Q.11 Show students with marks between 50 and 80."
   ]
  },
  {
   "cell_type": "code",
   "execution_count": 52,
   "id": "e2514006-3de0-45fe-a095-c019ff46bf9f",
   "metadata": {},
   "outputs": [
    {
     "name": "stdout",
     "output_type": "stream",
     "text": [
      "(6, 'Gorab', 2, 68)\n",
      "(7, 'Prikhar', 2, 50)\n",
      "(9, 'Asim', 1, 78)\n"
     ]
    }
   ],
   "source": [
    "# query = \"select * from school.students where marks >= 50 and marks <= 80\"\n",
    "query = \"select * from school.students where marks between 50 and 80\"\n",
    "cursor.execute(query)\n",
    "\n",
    "data = cursor.fetchall()\n",
    "for i in data:\n",
    "    print(i)"
   ]
  },
  {
   "cell_type": "markdown",
   "id": "f642cad4-16fa-447c-8191-c971699fcb1c",
   "metadata": {},
   "source": [
    "# Q.12 Show students who are in class 8C"
   ]
  },
  {
   "cell_type": "code",
   "execution_count": 54,
   "id": "a7ab6d4a-9f77-468a-b50c-8a53b8c53065",
   "metadata": {},
   "outputs": [
    {
     "name": "stdout",
     "output_type": "stream",
     "text": [
      "('Nazem', 'class 8C')\n",
      "('bhupas', 'class 8C')\n",
      "('rajkumar', 'class 8C')\n"
     ]
    }
   ],
   "source": [
    "query = \"\"\"\n",
    "        select students.student_name, classes.class_name from school.students join school.classes \n",
    "        on students.class_id = classes.class_id where class_name = \"class 8C\"\n",
    "\"\"\"\n",
    "cursor.execute(query)\n",
    "\n",
    "data = cursor.fetchall()\n",
    "for i in data:\n",
    "    print(i)"
   ]
  },
  {
   "cell_type": "markdown",
   "id": "73e2e5fe-05da-403a-86fc-05cf1de32f4a",
   "metadata": {},
   "source": [
    "# Q.13 Show students whose name starts with \"A\"."
   ]
  },
  {
   "cell_type": "code",
   "execution_count": 56,
   "id": "de5701e2-870c-4f4e-be72-4e5585e8ed82",
   "metadata": {},
   "outputs": [
    {
     "name": "stdout",
     "output_type": "stream",
     "text": [
      "(3, 'Atif', 2, 100)\n",
      "(9, 'Asim', 1, 78)\n"
     ]
    }
   ],
   "source": [
    "query = \"select * from school.students where student_name like 'a%'\"\n",
    "cursor.execute(query)\n",
    "\n",
    "data = cursor.fetchall()\n",
    "for i in data:\n",
    "    print(i)"
   ]
  },
  {
   "cell_type": "markdown",
   "id": "d7b7eb2a-c470-4ff4-9b96-c8b8ca553677",
   "metadata": {},
   "source": [
    "# Q.14 Show students whose name ends with \"m\"."
   ]
  },
  {
   "cell_type": "code",
   "execution_count": 58,
   "id": "e759f059-1f46-43bf-b4b3-a75792e48b0b",
   "metadata": {},
   "outputs": [
    {
     "name": "stdout",
     "output_type": "stream",
     "text": [
      "(1, 'shivem', 1, 98)\n",
      "(2, 'ritem', 1, 95)\n",
      "(4, 'Nazem', 3, 81)\n",
      "(9, 'Asim', 1, 78)\n"
     ]
    }
   ],
   "source": [
    "query = \"select * from school.students where student_name like '%m'\"\n",
    "cursor.execute(query)\n",
    "\n",
    "data = cursor.fetchall()\n",
    "for i in data:\n",
    "    print(i)"
   ]
  },
  {
   "cell_type": "markdown",
   "id": "be694e21-46da-4682-b44f-beba72afe207",
   "metadata": {},
   "source": [
    "# Q.15 Show students whose name contains \"oo\"."
   ]
  },
  {
   "cell_type": "code",
   "execution_count": 60,
   "id": "a83aa823-ee25-4d7d-9e55-41b666cf973e",
   "metadata": {},
   "outputs": [
    {
     "name": "stdout",
     "output_type": "stream",
     "text": [
      "(5, 'noor', 1, 95)\n"
     ]
    }
   ],
   "source": [
    "query = \"select * from school.students where student_name like '%oo%'\"\n",
    "cursor.execute(query)\n",
    "\n",
    "data = cursor.fetchall()\n",
    "for i in data:\n",
    "    print(i)"
   ]
  },
  {
   "cell_type": "markdown",
   "id": "8fc4a05a-15ca-4ae8-871c-e7b13016d824",
   "metadata": {},
   "source": [
    "# Q.16 Show students who do not belong to class 8C."
   ]
  },
  {
   "cell_type": "code",
   "execution_count": 65,
   "id": "32aea26f-72fe-405c-bbba-9c01b8a63578",
   "metadata": {},
   "outputs": [
    {
     "name": "stdout",
     "output_type": "stream",
     "text": [
      "('shivem', 'class 6A')\n",
      "('ritem', 'class 6A')\n",
      "('noor', 'class 6A')\n",
      "('Asim', 'class 6A')\n",
      "('Atif', 'class 7B')\n",
      "('Gorab', 'class 7B')\n",
      "('Prikhar', 'class 7B')\n"
     ]
    }
   ],
   "source": [
    "query = \"\"\"\n",
    "      select students.student_name, classes.class_name from school.students\n",
    "      join school.classes\n",
    "      on students.class_id = classes.class_id\n",
    "      where class_name != 'Class 8C'\n",
    "\"\"\"\n",
    "cursor.execute(query)\n",
    "\n",
    "data = cursor.fetchall()\n",
    "for i in data:\n",
    "    print(i)"
   ]
  },
  {
   "cell_type": "markdown",
   "id": "4dbac94f-6293-4634-9f31-7de2429afeb3",
   "metadata": {},
   "source": [
    "# Q.17 Show students who are either in class 7B or class 8C."
   ]
  },
  {
   "cell_type": "code",
   "execution_count": 67,
   "id": "50c1908a-3953-4cbf-9288-c7628e30bb38",
   "metadata": {},
   "outputs": [
    {
     "name": "stdout",
     "output_type": "stream",
     "text": [
      "('Atif', 'class 7B')\n",
      "('Gorab', 'class 7B')\n",
      "('Prikhar', 'class 7B')\n",
      "('Nazem', 'class 8C')\n",
      "('bhupas', 'class 8C')\n",
      "('rajkumar', 'class 8C')\n"
     ]
    }
   ],
   "source": [
    "query = \"\"\"\n",
    "       select students.student_name, classes.class_name \n",
    "       from school.students\n",
    "       join school.classes\n",
    "       on students.class_id = classes.class_id\n",
    "       where class_name in ('class 7B','class 8C')\n",
    "\"\"\"\n",
    "cursor.execute(query)\n",
    "\n",
    "data = cursor.fetchall()\n",
    "for i in data:\n",
    "    print(i)"
   ]
  },
  {
   "cell_type": "markdown",
   "id": "2b011bef-cb13-47dd-a683-c4753023ee41",
   "metadata": {},
   "source": [
    "# Q.18 Find the maximum marks in the table."
   ]
  },
  {
   "cell_type": "code",
   "execution_count": 71,
   "id": "5f1a86b4-af73-4f10-8918-d2f6138a9d35",
   "metadata": {},
   "outputs": [
    {
     "name": "stdout",
     "output_type": "stream",
     "text": [
      "(3, 'Atif', 2, 100)\n"
     ]
    }
   ],
   "source": [
    "query = \"\"\"\n",
    "      select * from school.students\n",
    "      where marks = (\n",
    "          select max(marks) from school.students\n",
    "      )\n",
    "\"\"\"\n",
    "cursor.execute(query)\n",
    "\n",
    "data = cursor.fetchall()\n",
    "for i in data:\n",
    "    print(i)"
   ]
  },
  {
   "cell_type": "markdown",
   "id": "de779f32-8d79-4aed-8a59-2ed1bbe75650",
   "metadata": {},
   "source": [
    "# Q.19 Find the minimum marks in the table."
   ]
  },
  {
   "cell_type": "code",
   "execution_count": 73,
   "id": "10128209-eb98-4188-b0d7-54275895a091",
   "metadata": {},
   "outputs": [
    {
     "name": "stdout",
     "output_type": "stream",
     "text": [
      "(7, 'Prikhar', 2, 50)\n"
     ]
    }
   ],
   "source": [
    "query = \"\"\"\n",
    "      select * from school.students\n",
    "      where marks = ( \n",
    "           select min(marks) from school.students\n",
    "      )\n",
    "\"\"\"\n",
    "cursor.execute(query)\n",
    "\n",
    "data = cursor.fetchall()\n",
    "for i in data:\n",
    "    print(i)"
   ]
  },
  {
   "cell_type": "markdown",
   "id": "919e236a-a16a-4d79-9b90-7eea47221d24",
   "metadata": {},
   "source": [
    "# Q.20 Find the average marks of all students."
   ]
  },
  {
   "cell_type": "code",
   "execution_count": 77,
   "id": "d06b1dc1-6a10-42bd-91e8-0d0a88a2a6cd",
   "metadata": {},
   "outputs": [
    {
     "name": "stdout",
     "output_type": "stream",
     "text": [
      "(1, 'shivem', 1, 98)\n",
      "(2, 'ritem', 1, 95)\n",
      "(3, 'Atif', 2, 100)\n",
      "(5, 'noor', 1, 95)\n",
      "(8, 'bhupas', 3, 96)\n",
      "(10, 'rajkumar', 3, 98)\n"
     ]
    }
   ],
   "source": [
    "query = \"\"\"\n",
    "      select * from school.students\n",
    "      where marks > (\n",
    "          select avg(marks\n",
    "          ) from school.students\n",
    "      )\n",
    "\"\"\"\n",
    "cursor.execute(query)\n",
    "\n",
    "data = cursor.fetchall()\n",
    "for i in data:\n",
    "    print(i)"
   ]
  },
  {
   "cell_type": "markdown",
   "id": "3a36961b-2843-4b46-88bb-571eb14737ec",
   "metadata": {},
   "source": [
    "# Q.21 Find total marks of all students."
   ]
  },
  {
   "cell_type": "code",
   "execution_count": 84,
   "id": "46b7d013-c2f8-44f7-94b1-79c5ca303dda",
   "metadata": {},
   "outputs": [
    {
     "name": "stdout",
     "output_type": "stream",
     "text": [
      "All sutudent marks : 859\n"
     ]
    }
   ],
   "source": [
    "query = \"select sum(marks) from school.students\"\n",
    "cursor.execute(query)\n",
    "\n",
    "data = cursor.fetchall()\n",
    "for i in data:\n",
    "    print(\"All sutudent total marks :\",i[0])\n",
    "    "
   ]
  },
  {
   "cell_type": "markdown",
   "id": "9aa5c356-599c-45da-81c6-3bdb4226ae34",
   "metadata": {},
   "source": [
    "# Q.22 Count how many students are in each class (use GROUP BY)."
   ]
  },
  {
   "cell_type": "code",
   "execution_count": 86,
   "id": "ae2f3e61-04e9-49be-9f94-0b5d9aec73d9",
   "metadata": {},
   "outputs": [
    {
     "name": "stdout",
     "output_type": "stream",
     "text": [
      "('class 6A', 4)\n",
      "('class 7B', 3)\n",
      "('class 8C', 3)\n"
     ]
    }
   ],
   "source": [
    "query = \"\"\"\n",
    "      select classes.class_name, count(student_id) from school.classes\n",
    "      join school.students\n",
    "      on students.class_id = classes.class_id\n",
    "      group by class_name\n",
    "\"\"\"\n",
    "cursor.execute(query)\n",
    "\n",
    "data = cursor.fetchall()\n",
    "for i in data:\n",
    "    print(i)"
   ]
  },
  {
   "cell_type": "markdown",
   "id": "9ccecc81-52a3-479a-ab2a-5ba114d54cbe",
   "metadata": {},
   "source": [
    "# Q.23\tFind the highest marks student from each class."
   ]
  },
  {
   "cell_type": "code",
   "execution_count": 97,
   "id": "3815d393-5b4c-4dc8-98e7-a87d1e0e00f6",
   "metadata": {},
   "outputs": [
    {
     "name": "stdout",
     "output_type": "stream",
     "text": [
      "('shivem', 98, 'class 6A')\n",
      "('Atif', 100, 'class 7B')\n",
      "('rajkumar', 98, 'class 8C')\n"
     ]
    }
   ],
   "source": [
    "query = \"\"\"\n",
    "      select students.student_name, students.marks, classes.class_name\n",
    "      from school.students\n",
    "      join school.classes\n",
    "      on students.class_id = classes.class_id\n",
    "      where students.marks = (\n",
    "          select max(students.marks) from school.students\n",
    "          where students.class_id = classes.class_id\n",
    "      )\n",
    "\"\"\"\n",
    "cursor.execute(query)\n",
    "\n",
    "data = cursor.fetchall()\n",
    "for i in data:\n",
    "    print(i)"
   ]
  },
  {
   "cell_type": "markdown",
   "id": "76573451-dd2b-4cbd-8f99-a9be5a4e0903",
   "metadata": {},
   "source": [
    "# Q.24 Find the lowest marks student from each class."
   ]
  },
  {
   "cell_type": "code",
   "execution_count": 98,
   "id": "3895e341-840b-43aa-9638-645f2f6bdf66",
   "metadata": {},
   "outputs": [
    {
     "name": "stdout",
     "output_type": "stream",
     "text": [
      "('Asim', 78, 'class 6A')\n",
      "('Prikhar', 50, 'class 7B')\n",
      "('Nazem', 81, 'class 8C')\n"
     ]
    }
   ],
   "source": [
    "query = \"\"\"\n",
    "      select students.student_name, students.marks, classes.class_name\n",
    "      from school.students\n",
    "      join school.classes\n",
    "      on students.class_id = classes.class_id\n",
    "      where students.marks = (\n",
    "          select min(students.marks) from school.students\n",
    "          where students.class_id = classes.class_id\n",
    "      )\n",
    "\"\"\"\n",
    "cursor.execute(query)\n",
    "\n",
    "data = cursor.fetchall()\n",
    "for i in data:\n",
    "    print(i)"
   ]
  },
  {
   "cell_type": "markdown",
   "id": "a38db480-5d2d-4ffa-885b-2c4f49aabb21",
   "metadata": {},
   "source": [
    "# Q.25 Find the average marks of each class."
   ]
  },
  {
   "cell_type": "code",
   "execution_count": 105,
   "id": "f36a5990-d2ef-4410-8b5e-1a7cf32300e9",
   "metadata": {},
   "outputs": [
    {
     "name": "stdout",
     "output_type": "stream",
     "text": [
      "('class 6A', Decimal('91.5000'))\n",
      "('class 7B', Decimal('72.6667'))\n",
      "('class 8C', Decimal('91.6667'))\n"
     ]
    }
   ],
   "source": [
    "query = \"\"\"\n",
    "     select classes.class_name, avg(students.marks)\n",
    "      from school.students\n",
    "      join school.classes\n",
    "      on students.class_id = classes.class_id\n",
    "      group by classes.class_name\n",
    "\"\"\"\n",
    "cursor.execute(query)\n",
    "\n",
    "data = cursor.fetchall()\n",
    "for i in data:\n",
    "    print(i)"
   ]
  },
  {
   "cell_type": "markdown",
   "id": "cdaf571c-3ba7-46a3-bad6-48e28557bed6",
   "metadata": {},
   "source": [
    "# Q.26\tCount number of students in each age group."
   ]
  },
  {
   "cell_type": "code",
   "execution_count": 9,
   "id": "4752e091-89ea-4f51-a6a7-8c35e2f120d4",
   "metadata": {},
   "outputs": [
    {
     "name": "stdout",
     "output_type": "stream",
     "text": [
      "(22, 1)\n",
      "(21, 2)\n",
      "(24, 1)\n",
      "(25, 1)\n",
      "(26, 1)\n"
     ]
    }
   ],
   "source": [
    "query = \"select age, count(age) from school.new_table group by age\"\n",
    "cursor.execute(query)\n",
    "\n",
    "data = cursor.fetchall()\n",
    "for i in data:\n",
    "    print(i)"
   ]
  },
  {
   "cell_type": "markdown",
   "id": "f947874b-cb07-4fd1-8658-564ff1dfdbf1",
   "metadata": {},
   "source": [
    "# Q.27 Show class where average marks is more than 70."
   ]
  },
  {
   "cell_type": "code",
   "execution_count": 33,
   "id": "8c9eba6e-fd6b-4c58-afa0-3411b9bf2723",
   "metadata": {},
   "outputs": [
    {
     "name": "stdout",
     "output_type": "stream",
     "text": [
      "('class 6A', Decimal('91.5000'))\n",
      "('class 7B', Decimal('72.6667'))\n",
      "('class 8C', Decimal('91.6667'))\n"
     ]
    }
   ],
   "source": [
    "query = \"\"\"\n",
    "      select classes.class_name, avg(students.marks) from school.students\n",
    "      join school.classes\n",
    "      on students.class_id = classes.class_id\n",
    "      group by classes.class_id having avg(students.marks) > 70\n",
    "\"\"\"\n",
    "cursor.execute(query)\n",
    "\n",
    "data = cursor.fetchall()\n",
    "for i in data:\n",
    "    print(i)"
   ]
  },
  {
   "cell_type": "markdown",
   "id": "892fa15f-3ddb-4c50-a2ca-f63ae236c5c9",
   "metadata": {},
   "source": [
    "# Q.28 Find students who scored above class average"
   ]
  },
  {
   "cell_type": "code",
   "execution_count": 35,
   "id": "5d04a261-e68a-4fb9-a2c7-a00ee57f0780",
   "metadata": {},
   "outputs": [
    {
     "name": "stdout",
     "output_type": "stream",
     "text": [
      "('shivem', 'class 6A', 98)\n",
      "('ritem', 'class 6A', 95)\n",
      "('Atif', 'class 7B', 100)\n",
      "('noor', 'class 6A', 95)\n",
      "('bhupas', 'class 8C', 96)\n",
      "('rajkumar', 'class 8C', 98)\n"
     ]
    }
   ],
   "source": [
    "query = \"\"\"\n",
    "      select students.student_name, classes.class_name, students.marks\n",
    "      from school.students\n",
    "      join school.classes\n",
    "        on students.class_id = classes.class_id\n",
    "      where students.marks > (\n",
    "         select avg(students.marks) from school.students\n",
    "      )\n",
    " \"\"\"\n",
    "cursor.execute(query)\n",
    "\n",
    "data = cursor.fetchall()\n",
    "for i in data:\n",
    "    print(i)"
   ]
  },
  {
   "cell_type": "markdown",
   "id": "b6bdfec5-a0a9-4f13-9175-b9c2b0a339cf",
   "metadata": {},
   "source": [
    "# Q.29\tFind the second highest marks in the table"
   ]
  },
  {
   "cell_type": "code",
   "execution_count": 56,
   "id": "02dc1f23-9427-4249-a97f-2436502fd3e8",
   "metadata": {},
   "outputs": [
    {
     "name": "stdout",
     "output_type": "stream",
     "text": [
      "(1, 'shivem', 1, 98)\n"
     ]
    }
   ],
   "source": [
    "# second highest marks first query\n",
    "query = \"\"\"\n",
    "      select * from school.students order by marks desc limit 1 offset 1\n",
    "\"\"\"\n",
    "\n",
    "# second highest marks second query\n",
    "# query = \"\"\"\n",
    "#       select max(marks) from school.students where marks < (\n",
    "#          select max(marks) from school.students\n",
    "#       )\n",
    "# \"\"\"\n",
    "cursor.execute(query)\n",
    "\n",
    "data = cursor.fetchall()\n",
    "for i in data:\n",
    "    print(i)"
   ]
  },
  {
   "cell_type": "markdown",
   "id": "0a0c12b3-fef0-44ed-9ae3-e1e164ef3e96",
   "metadata": {},
   "source": [
    "# Q.30\tFind the top 3 students with highest marks."
   ]
  },
  {
   "cell_type": "code",
   "execution_count": null,
   "id": "7ba98db8-c858-4fc4-8086-728dc6ac01c5",
   "metadata": {},
   "outputs": [],
   "source": [
    "query = \"select * from school.students order by marks desc limit 3\"\n",
    "cursor.execute(query)\n",
    "\n",
    "data = cursor.fetchall()\n",
    "for i in data:\n",
    "    print(i)"
   ]
  },
  {
   "cell_type": "markdown",
   "id": "21b84360-0f8f-4367-82c1-78e6c435929f",
   "metadata": {},
   "source": [
    "# Q.31\tShow all teachers with their respective classes"
   ]
  },
  {
   "cell_type": "code",
   "execution_count": 73,
   "id": "f9fa77de-523b-4a43-8fb1-4f3dea3232db",
   "metadata": {},
   "outputs": [
    {
     "name": "stdout",
     "output_type": "stream",
     "text": [
      "(1, 'class 6A', 1, 1, 'mohit')\n",
      "(2, 'class 7B', 2, 2, 'nisant')\n",
      "(3, 'class 8C', 3, 3, 'dash')\n"
     ]
    }
   ],
   "source": [
    "query = \"\"\"\n",
    "      select * from school.classes\n",
    "      left join school.teachers\n",
    "       on teachers.teacher_id = classes.teacher_id\n",
    "\"\"\"\n",
    "cursor.execute(query)\n",
    "\n",
    "data = cursor.fetchall()\n",
    "for i in data:\n",
    "    print(i)"
   ]
  },
  {
   "cell_type": "markdown",
   "id": "5f3279bb-82d7-49f1-8f89-aee48e13f998",
   "metadata": {},
   "source": [
    "# Q.32\tShow teacher names along with student names of their class."
   ]
  },
  {
   "cell_type": "code",
   "execution_count": 75,
   "id": "38c777e2-f160-4c68-8e16-9c8eab1bb7a2",
   "metadata": {},
   "outputs": [
    {
     "name": "stdout",
     "output_type": "stream",
     "text": [
      "('shivem', 'class 6A', 'mohit')\n",
      "('ritem', 'class 6A', 'mohit')\n",
      "('noor', 'class 6A', 'mohit')\n",
      "('Asim', 'class 6A', 'mohit')\n",
      "('Atif', 'class 7B', 'nisant')\n",
      "('Gorab', 'class 7B', 'nisant')\n",
      "('Prikhar', 'class 7B', 'nisant')\n",
      "('Nazem', 'class 8C', 'dash')\n",
      "('bhupas', 'class 8C', 'dash')\n",
      "('rajkumar', 'class 8C', 'dash')\n"
     ]
    }
   ],
   "source": [
    "query = \"\"\"\n",
    "      select students.student_name, classes.class_name, teachers.teacher_name\n",
    "      from school.students\n",
    "      join school.classes\n",
    "        on students.class_id = classes.class_id\n",
    "      join school.teachers\n",
    "        on classes.teacher_id = teachers.teacher_id\n",
    "\"\"\"\n",
    "cursor.execute(query)\n",
    "\n",
    "data = cursor.fetchall()\n",
    "for i in data:\n",
    "    print(i)"
   ]
  },
  {
   "cell_type": "markdown",
   "id": "83bd3c1a-cc93-4a59-b9a1-a77a85ec4af9",
   "metadata": {},
   "source": [
    "# Q.33\tFind all students with their class teacher’s name"
   ]
  },
  {
   "cell_type": "code",
   "execution_count": 77,
   "id": "57bc70e2-2284-4751-b9a7-1b1b2e10f916",
   "metadata": {},
   "outputs": [
    {
     "name": "stdout",
     "output_type": "stream",
     "text": [
      "('shivem', 'mohit')\n",
      "('ritem', 'mohit')\n",
      "('noor', 'mohit')\n",
      "('Asim', 'mohit')\n",
      "('Atif', 'nisant')\n",
      "('Gorab', 'nisant')\n",
      "('Prikhar', 'nisant')\n",
      "('Nazem', 'dash')\n",
      "('bhupas', 'dash')\n",
      "('rajkumar', 'dash')\n"
     ]
    }
   ],
   "source": [
    "query = \"\"\"\n",
    "      select students.student_name, teachers.teacher_name\n",
    "      from school.students\n",
    "      join school.classes\n",
    "        on students.class_id = classes.class_id\n",
    "      join school.teachers\n",
    "        on classes.teacher_id = teachers.teacher_id\n",
    "\"\"\"\n",
    "cursor.execute(query)\n",
    "\n",
    "data = cursor.fetchall()\n",
    "for i in data:\n",
    "    print(i)"
   ]
  },
  {
   "cell_type": "markdown",
   "id": "c79d01ce-c217-4d83-b268-efb8499939a1",
   "metadata": {},
   "source": [
    "# Q.34\tShow all classes and number of students in each class."
   ]
  },
  {
   "cell_type": "code",
   "execution_count": 92,
   "id": "d9b9983a-323e-4c69-8371-75e4a76ddc7e",
   "metadata": {},
   "outputs": [
    {
     "name": "stdout",
     "output_type": "stream",
     "text": [
      "('class 6A', 4)\n",
      "('class 7B', 3)\n",
      "('class 8C', 3)\n"
     ]
    }
   ],
   "source": [
    "query = \"\"\"\n",
    "      select classes.class_name, count(students.student_id) from school.classes\n",
    "      join school.students\n",
    "         on classes.class_id = students.class_id\n",
    "      group by classes.class_id\n",
    "\"\"\"\n",
    "cursor.execute(query)\n",
    "\n",
    "data = cursor.fetchall()\n",
    "for i in data:\n",
    "    print(i)"
   ]
  },
  {
   "cell_type": "markdown",
   "id": "66e8fff7-17db-4bbd-85ba-23491bc65da6",
   "metadata": {},
   "source": [
    "# Q.35\tShow teachers who teach more than 1 class."
   ]
  },
  {
   "cell_type": "code",
   "execution_count": 105,
   "id": "996da8e7-1903-40ed-8a82-bea213534ac4",
   "metadata": {},
   "outputs": [],
   "source": [
    "query = \"\"\"\n",
    "      select teachers.teacher_id, teachers.teacher_name, count(classes.class_id) \n",
    "      from school.classes\n",
    "      join school.teachers\n",
    "        on classes.teacher_id = teachers.teacher_id\n",
    "      group by teachers.teacher_id, teachers.teacher_name\n",
    "      having count(classes.class_id) < 1\n",
    "\"\"\"\n",
    "cursor.execute(query)\n",
    "\n",
    "data = cursor.fetchall()\n",
    "for i in data:\n",
    "    print(i)"
   ]
  },
  {
   "cell_type": "markdown",
   "id": "087df713-1dfa-4b0e-bc8a-96ebb0638fb4",
   "metadata": {},
   "source": [
    "# Q.36\tFind classes where no teacher is assigned"
   ]
  },
  {
   "cell_type": "code",
   "execution_count": 108,
   "id": "cbec2911-af56-47d1-a08a-9daea444710c",
   "metadata": {},
   "outputs": [],
   "source": [
    "quert = \"\"\"\n",
    "      select classes.class_name from school.classes\n",
    "      left join school.teachers\n",
    "      on classes.teacher_id = teachers.teacher_id\n",
    "      group by classes.class_id\n",
    "\"\"\"\n",
    "cursor.execute(query)\n",
    "\n",
    "data = cursor.fetchall()\n",
    "for i in data:\n",
    "    print(i)"
   ]
  },
  {
   "cell_type": "markdown",
   "id": "3b78dc0d-a870-4b9c-8309-848f32b095a5",
   "metadata": {},
   "source": [
    "# Q.37\tFind teachers who have students with marks > 90"
   ]
  },
  {
   "cell_type": "code",
   "execution_count": 111,
   "id": "a995b169-1312-4575-b1b2-c2f308a4c1b0",
   "metadata": {},
   "outputs": [
    {
     "name": "stdout",
     "output_type": "stream",
     "text": [
      "(1, 'shivem', 98, 'mohit')\n",
      "(2, 'ritem', 95, 'mohit')\n",
      "(3, 'Atif', 100, 'nisant')\n",
      "(5, 'noor', 95, 'mohit')\n",
      "(8, 'bhupas', 96, 'dash')\n",
      "(10, 'rajkumar', 98, 'dash')\n"
     ]
    }
   ],
   "source": [
    "query = \"\"\"\n",
    "      select students.student_id, students.student_name, students.marks, teachers.teacher_name\n",
    "      from school.students\n",
    "      join school.classes\n",
    "        on students.class_id = classes.class_id\n",
    "      join school.teachers\n",
    "        on classes.teacher_id = teachers.teacher_id\n",
    "      where marks > 90\n",
    "\"\"\"\n",
    "cursor.execute(query)\n",
    "\n",
    "data = cursor.fetchall()\n",
    "for i in data:\n",
    "    print(i)"
   ]
  },
  {
   "cell_type": "markdown",
   "id": "7014b7fa-3ba3-4b37-aceb-8344eeef7463",
   "metadata": {},
   "source": [
    "# Q.38\tShow student details along with subject taught by their class teacher"
   ]
  },
  {
   "cell_type": "code",
   "execution_count": null,
   "id": "08503ba6-3a8b-4aa8-87d0-cfa31657692e",
   "metadata": {},
   "outputs": [],
   "source": [
    "query = \"\"\"\n",
    "      select students.student_id, students.student_name, students.marks, classes.class_name,\n",
    "      teachers.teacher_name from school.students\n",
    "      join school.classes\n",
    "        on students.class_id = classes.class_id\n",
    "      join school.teachers\n",
    "        on classes.teacher_id = teachers.teacher_id\n",
    "\"\"\"\n",
    "cursor.execute(query)\n",
    "\n",
    "data = cursor.fetchall()\n",
    "for i in data:\n",
    "    print(i)"
   ]
  },
  {
   "cell_type": "markdown",
   "id": "4cc4b706-3a03-42ea-b2ca-8fa7abcf2150",
   "metadata": {},
   "source": [
    "# Q.39\tFind the class with maximum students"
   ]
  },
  {
   "cell_type": "code",
   "execution_count": 130,
   "id": "63da836d-e40e-4ccf-8940-f418dd94cb1e",
   "metadata": {},
   "outputs": [
    {
     "name": "stdout",
     "output_type": "stream",
     "text": [
      "('class 6A', 4)\n"
     ]
    }
   ],
   "source": [
    "query = \"\"\"\n",
    "      select classes.class_name, count(students.student_id) as total_student from school.classes\n",
    "      join school.students\n",
    "        on students.class_id = classes.class_id\n",
    "      group by classes.class_id order by total_student desc limit 1\n",
    "\"\"\"\n",
    "cursor.execute(query)\n",
    "\n",
    "data = cursor.fetchall()\n",
    "for i in data:\n",
    "    print(i)"
   ]
  },
  {
   "cell_type": "markdown",
   "id": "8afdd0ea-1a36-4dea-a5f2-05a94a009c1d",
   "metadata": {},
   "source": [
    "# Q.40\tFind the class with minimum average marks."
   ]
  },
  {
   "cell_type": "code",
   "execution_count": 138,
   "id": "49dd9556-8140-4829-b22d-55ed8a50cabc",
   "metadata": {},
   "outputs": [
    {
     "name": "stdout",
     "output_type": "stream",
     "text": [
      "('class 7B', Decimal('72.6667'))\n"
     ]
    }
   ],
   "source": [
    "query = \"\"\"\n",
    "      select classes.class_name, avg(students.marks) as avg_student from school.classes\n",
    "      join school.students\n",
    "        on students.class_id = classes.class_id \n",
    "      group by classes.class_id \n",
    "      order by avg_student asc limit 1\n",
    "\"\"\"\n",
    "cursor.execute(query)\n",
    "\n",
    "data = cursor.fetchall()\n",
    "for i in data:\n",
    "    print(i)"
   ]
  },
  {
   "cell_type": "markdown",
   "id": "f6063e1a-00e1-4a35-80c4-5859e069d3ff",
   "metadata": {},
   "source": [
    "# Q.41\tShow students who scored more than the average marks."
   ]
  },
  {
   "cell_type": "code",
   "execution_count": 140,
   "id": "34b3d77f-af2e-47b5-8e8b-edb4f87ec821",
   "metadata": {},
   "outputs": [
    {
     "name": "stdout",
     "output_type": "stream",
     "text": [
      "(1, 'shivem', 1, 98)\n",
      "(2, 'ritem', 1, 95)\n",
      "(3, 'Atif', 2, 100)\n",
      "(5, 'noor', 1, 95)\n",
      "(8, 'bhupas', 3, 96)\n",
      "(10, 'rajkumar', 3, 98)\n"
     ]
    }
   ],
   "source": [
    "query = \"\"\"\n",
    "      select * from school.students where marks > (\n",
    "          select avg(marks) from school.students\n",
    "      )\n",
    "\"\"\"\n",
    "cursor.execute(query)\n",
    "\n",
    "data = cursor.fetchall()\n",
    "for i in data:\n",
    "    print(i)"
   ]
  },
  {
   "cell_type": "markdown",
   "id": "e1fb21e4-ca17-4b4b-bc68-2702f7edd500",
   "metadata": {},
   "source": [
    "# Q.42 Show students who scored equal to the maximum marks."
   ]
  },
  {
   "cell_type": "code",
   "execution_count": 145,
   "id": "eee83364-7982-4673-8976-1895ea084c8d",
   "metadata": {},
   "outputs": [
    {
     "name": "stdout",
     "output_type": "stream",
     "text": [
      "(3, 'Atif', 2, 100)\n"
     ]
    }
   ],
   "source": [
    "query = \"\"\"\n",
    "      select * from school.students where marks = (\n",
    "         select max(marks) from school.students\n",
    "      )\n",
    "\"\"\"\n",
    "cursor.execute(query)\n",
    "\n",
    "data = cursor.fetchall()\n",
    "for i in data:\n",
    "    print(i)"
   ]
  },
  {
   "cell_type": "markdown",
   "id": "3652cb74-8a6d-434c-8a1e-d1d2ed3cfdf6",
   "metadata": {},
   "source": [
    "# Q.43 Show students whose marks are greater than all students of class 8C"
   ]
  },
  {
   "cell_type": "code",
   "execution_count": 165,
   "id": "21caef0d-5ad6-400e-9556-aeda70edda3a",
   "metadata": {},
   "outputs": [
    {
     "name": "stdout",
     "output_type": "stream",
     "text": [
      "(3, 'Atif', 100, 'class 7B')\n"
     ]
    }
   ],
   "source": [
    "query = \"\"\"\n",
    "      select students.student_id, students.student_name, students.marks, classes.class_name\n",
    "      from school.students\n",
    "      join school.classes\n",
    "      on students.class_id = classes.class_id\n",
    "      where marks > (\n",
    "          select max(students.marks) from school.students \n",
    "          join school.classes\n",
    "          on students.class_id = classes.class_id\n",
    "          where classes.class_name = 'class 8C' \n",
    "      )\n",
    "      \n",
    "\"\"\"\n",
    "cursor.execute(query)\n",
    "\n",
    "data = cursor.fetchall()\n",
    "for i in data:\n",
    "    print(i)"
   ]
  },
  {
   "cell_type": "markdown",
   "id": "fbae5c24-87d7-4c0d-841b-9685745cac5d",
   "metadata": {},
   "source": [
    "# Q.44\tFind students whose age is above average age"
   ]
  },
  {
   "cell_type": "code",
   "execution_count": 168,
   "id": "9a5666f1-918c-4ea6-b098-e27d5bdfcbd3",
   "metadata": {},
   "outputs": [
    {
     "name": "stdout",
     "output_type": "stream",
     "text": [
      "(36, 'radhika', 24, 'BSC', 90)\n",
      "(38, 'rohan', 25, 'BCA', 55)\n",
      "(39, 'kuldeep', 26, 'MCA', 60)\n"
     ]
    }
   ],
   "source": [
    "query = \"\"\"\n",
    "      select * from school.new_table where age > (\n",
    "          select avg(age) from school.new_table\n",
    "      )\n",
    "\"\"\"\n",
    "cursor.execute(query)\n",
    "\n",
    "data = cursor.fetchall()\n",
    "for i in data:\n",
    "    print(i)"
   ]
  },
  {
   "cell_type": "markdown",
   "id": "5595f66e-db84-4661-8ffd-a598fa9ae03f",
   "metadata": {},
   "source": [
    "# Q.45\tShow students who are among the top 5 in marks."
   ]
  },
  {
   "cell_type": "code",
   "execution_count": 169,
   "id": "1da8c944-4d20-4e52-8c8c-0915541e8662",
   "metadata": {},
   "outputs": [
    {
     "name": "stdout",
     "output_type": "stream",
     "text": [
      "(3, 'Atif', 2, 100)\n",
      "(1, 'shivem', 1, 98)\n",
      "(10, 'rajkumar', 3, 98)\n",
      "(8, 'bhupas', 3, 96)\n",
      "(2, 'ritem', 1, 95)\n"
     ]
    }
   ],
   "source": [
    "query = \"\"\"\n",
    "      select * from school.students order by marks desc limit 5\n",
    "\"\"\"\n",
    "cursor.execute(query)\n",
    "\n",
    "data = cursor.fetchall()\n",
    "for i in data:\n",
    "    print(i)"
   ]
  },
  {
   "cell_type": "markdown",
   "id": "3feb2598-d0c4-4e6f-9994-94d8867ab642",
   "metadata": {},
   "source": [
    "# Q.46\tFind duplicate names in students table"
   ]
  },
  {
   "cell_type": "code",
   "execution_count": 170,
   "id": "f5f42ffd-cdbd-40f2-8268-20a55ff60b7a",
   "metadata": {},
   "outputs": [],
   "source": [
    "query = \"\"\"\n",
    "      select student_name, count(*) from school.students group by student_name having count(*) > 1\n",
    "\"\"\"\n",
    "cursor.execute(query)\n",
    "\n",
    "data = cursor.fetchall()\n",
    "for i in data:\n",
    "    print(i)"
   ]
  },
  {
   "cell_type": "markdown",
   "id": "84a65ee7-8f10-43b5-91ab-e1a5dabdb1bf",
   "metadata": {},
   "source": [
    "# Q.47\tDelete duplicate rows (keeping only one)"
   ]
  },
  {
   "cell_type": "code",
   "execution_count": null,
   "id": "b09124b8-733d-41ca-818e-b9b66aefa9f9",
   "metadata": {},
   "outputs": [],
   "source": [
    "# query = \"\"\"\n",
    "#       DELETE s1\n",
    "#       FROM students s1\n",
    "#       INNER JOIN students s2 \n",
    "#       WHERE \n",
    "#          s1.student_id > s2.student_id\n",
    "#          AND s1.student_name = s2.student_name\n",
    "#          AND s1.marks = s2.marks;\n",
    "# \"\"\"\n",
    "# cursor.execute(query)\n",
    "\n",
    "# data = cursor.fetchall()\n",
    "# for i in data:\n",
    "#     print(i)"
   ]
  },
  {
   "cell_type": "markdown",
   "id": "dcff281e-9173-4f50-ac5f-8a7ad82078d7",
   "metadata": {},
   "source": [
    "# Q.48\tUpdate marks of student id=3 to 95"
   ]
  },
  {
   "cell_type": "code",
   "execution_count": 173,
   "id": "9588b789-00e8-4496-a1a5-d074d7b5612b",
   "metadata": {},
   "outputs": [],
   "source": [
    "query = \"update students set marks = 95 where student_id = 3\"\n",
    "cursor.execute(query)\n",
    "conn.commit()\n",
    "print(\"Successfully update data\")"
   ]
  },
  {
   "cell_type": "markdown",
   "id": "7d9c2834-cfb6-4c70-affd-810095eb3f65",
   "metadata": {},
   "source": [
    "# Q.49\tDelete student whose marks are less than 35"
   ]
  },
  {
   "cell_type": "code",
   "execution_count": 175,
   "id": "6d838c72-4e35-454a-b4ec-6a5a56990976",
   "metadata": {},
   "outputs": [],
   "source": [
    "query = \"delete from students where marks < 35\"\n",
    "cursor.execute(query)"
   ]
  },
  {
   "cell_type": "markdown",
   "id": "e3546f09-39bf-44d0-b916-5d311f6542b5",
   "metadata": {},
   "source": [
    "# Q.50\tDrop the table students."
   ]
  },
  {
   "cell_type": "code",
   "execution_count": null,
   "id": "83ed6c3c-f51f-45a5-8e9a-0b1e1dd1f1e3",
   "metadata": {},
   "outputs": [],
   "source": [
    "# query = \"drop table tableNmae\"\n",
    "# cursor.execute(query)"
   ]
  }
 ],
 "metadata": {
  "kernelspec": {
   "display_name": "Python 3 (ipykernel)",
   "language": "python",
   "name": "python3"
  },
  "language_info": {
   "codemirror_mode": {
    "name": "ipython",
    "version": 3
   },
   "file_extension": ".py",
   "mimetype": "text/x-python",
   "name": "python",
   "nbconvert_exporter": "python",
   "pygments_lexer": "ipython3",
   "version": "3.13.7"
  }
 },
 "nbformat": 4,
 "nbformat_minor": 5
}
